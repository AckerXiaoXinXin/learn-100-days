{
 "cells": [
  {
   "cell_type": "code",
   "execution_count": 1,
   "id": "initial_id",
   "metadata": {
    "collapsed": true,
    "ExecuteTime": {
     "end_time": "2024-11-20T03:33:35.042703Z",
     "start_time": "2024-11-20T03:33:31.616648Z"
    }
   },
   "outputs": [],
   "source": [
    "import torch\n",
    "\n",
    "y = torch.arange(6, dtype=torch.float32)"
   ]
  },
  {
   "cell_type": "code",
   "outputs": [
    {
     "ename": "TypeError",
     "evalue": "'torch.Size' object is not callable",
     "output_type": "error",
     "traceback": [
      "\u001B[0;31m---------------------------------------------------------------------------\u001B[0m",
      "\u001B[0;31mTypeError\u001B[0m                                 Traceback (most recent call last)",
      "Cell \u001B[0;32mIn[2], line 1\u001B[0m\n\u001B[0;32m----> 1\u001B[0m \u001B[43my\u001B[49m\u001B[38;5;241;43m.\u001B[39;49m\u001B[43mshape\u001B[49m\u001B[43m(\u001B[49m\u001B[43m)\u001B[49m\n",
      "\u001B[0;31mTypeError\u001B[0m: 'torch.Size' object is not callable"
     ]
    }
   ],
   "source": [
    "y.shape()"
   ],
   "metadata": {
    "collapsed": false,
    "ExecuteTime": {
     "end_time": "2024-11-20T03:42:42.297077Z",
     "start_time": "2024-11-20T03:42:42.115048Z"
    }
   },
   "id": "83dbe153fa2b91df",
   "execution_count": 2
  },
  {
   "cell_type": "code",
   "outputs": [
    {
     "data": {
      "text/plain": "torch.Size([6])"
     },
     "execution_count": 3,
     "metadata": {},
     "output_type": "execute_result"
    }
   ],
   "source": [
    "y.shape"
   ],
   "metadata": {
    "collapsed": false,
    "ExecuteTime": {
     "end_time": "2024-11-20T03:42:55.351158Z",
     "start_time": "2024-11-20T03:42:55.338603Z"
    }
   },
   "id": "d22218114282f41c",
   "execution_count": 3
  },
  {
   "cell_type": "code",
   "outputs": [
    {
     "data": {
      "text/plain": "tensor([[0., 1., 2.],\n        [3., 4., 5.]])"
     },
     "execution_count": 4,
     "metadata": {},
     "output_type": "execute_result"
    }
   ],
   "source": [
    "y.reshape(2,3)"
   ],
   "metadata": {
    "collapsed": false,
    "ExecuteTime": {
     "end_time": "2024-11-20T03:43:27.515672Z",
     "start_time": "2024-11-20T03:43:27.498196Z"
    }
   },
   "id": "fc0ffc0f8109092c",
   "execution_count": 4
  },
  {
   "cell_type": "code",
   "outputs": [
    {
     "data": {
      "text/plain": "torch.Size([6])"
     },
     "execution_count": 5,
     "metadata": {},
     "output_type": "execute_result"
    }
   ],
   "source": [
    "y.shape"
   ],
   "metadata": {
    "collapsed": false,
    "ExecuteTime": {
     "end_time": "2024-11-20T03:43:35.290269Z",
     "start_time": "2024-11-20T03:43:35.283957Z"
    }
   },
   "id": "d4d248d2b7670618",
   "execution_count": 5
  },
  {
   "cell_type": "code",
   "outputs": [],
   "source": [
    "z = torch.zeros(2,3,4)"
   ],
   "metadata": {
    "collapsed": false,
    "ExecuteTime": {
     "end_time": "2024-11-20T03:44:07.112167Z",
     "start_time": "2024-11-20T03:44:07.103234Z"
    }
   },
   "id": "daed2d4f07319be3",
   "execution_count": 6
  },
  {
   "cell_type": "code",
   "outputs": [
    {
     "name": "stdout",
     "output_type": "stream",
     "text": [
      "tensor([[[0., 0., 0., 0.],\n",
      "         [0., 0., 0., 0.],\n",
      "         [0., 0., 0., 0.]],\n",
      "\n",
      "        [[0., 0., 0., 0.],\n",
      "         [0., 0., 0., 0.],\n",
      "         [0., 0., 0., 0.]]])\n"
     ]
    }
   ],
   "source": [
    "print(z)"
   ],
   "metadata": {
    "collapsed": false,
    "ExecuteTime": {
     "end_time": "2024-11-20T03:44:13.112756Z",
     "start_time": "2024-11-20T03:44:13.106429Z"
    }
   },
   "id": "22b301c2ee4fc137",
   "execution_count": 7
  },
  {
   "cell_type": "code",
   "outputs": [
    {
     "name": "stdout",
     "output_type": "stream",
     "text": [
      "tensor([[[1., 1., 1., 1.],\n",
      "         [1., 1., 1., 1.],\n",
      "         [1., 1., 1., 1.]],\n",
      "\n",
      "        [[1., 1., 1., 1.],\n",
      "         [1., 1., 1., 1.],\n",
      "         [1., 1., 1., 1.]]])\n"
     ]
    }
   ],
   "source": [
    "a = torch.ones(2,3,4)\n",
    "print(a)"
   ],
   "metadata": {
    "collapsed": false,
    "ExecuteTime": {
     "end_time": "2024-11-20T03:44:44.224198Z",
     "start_time": "2024-11-20T03:44:44.213825Z"
    }
   },
   "id": "d53662dc55d4fcc3",
   "execution_count": 8
  },
  {
   "cell_type": "code",
   "outputs": [
    {
     "name": "stdout",
     "output_type": "stream",
     "text": [
      "tensor([[[0.6366, 0.9816, 0.5433, 0.3340],\n",
      "         [0.4553, 0.7400, 0.6358, 0.4532],\n",
      "         [0.6686, 0.2727, 0.8564, 0.6314]],\n",
      "\n",
      "        [[0.9110, 0.4371, 0.5701, 0.3261],\n",
      "         [0.8301, 0.9774, 0.5710, 0.1858],\n",
      "         [0.9464, 0.8802, 0.5490, 0.2080]]])\n"
     ]
    }
   ],
   "source": [
    "b = torch.rand(2,3,4)\n",
    "print(b)"
   ],
   "metadata": {
    "collapsed": false,
    "ExecuteTime": {
     "end_time": "2024-11-20T03:45:09.085721Z",
     "start_time": "2024-11-20T03:45:09.068924Z"
    }
   },
   "id": "8f1aa3c7b02da435",
   "execution_count": 9
  },
  {
   "cell_type": "code",
   "outputs": [
    {
     "name": "stdout",
     "output_type": "stream",
     "text": [
      "tensor([[[ 0.5468, -0.7259, -0.5765, -0.7000],\n",
      "         [-0.4505, -0.9540,  0.1139, -0.9341],\n",
      "         [-0.7564,  1.0761, -1.7290,  0.1994]],\n",
      "\n",
      "        [[ 0.5492,  0.9775, -0.0761,  0.8224],\n",
      "         [ 1.1992,  1.7150, -1.0172, -0.2810],\n",
      "         [ 1.0708,  0.5619,  2.0117, -0.1117]]])\n"
     ]
    }
   ],
   "source": [
    "c = torch.randn(2,3,4)\n",
    "print(c)"
   ],
   "metadata": {
    "collapsed": false,
    "ExecuteTime": {
     "end_time": "2024-11-20T03:45:32.917151Z",
     "start_time": "2024-11-20T03:45:32.905649Z"
    }
   },
   "id": "edb6e9f913f2b166",
   "execution_count": 10
  },
  {
   "cell_type": "code",
   "outputs": [],
   "source": [
    "d = torch.tensor([[1,2,3], [4, 5, 6], [7, 8, 9]])"
   ],
   "metadata": {
    "collapsed": false,
    "ExecuteTime": {
     "end_time": "2024-11-20T03:49:54.402115Z",
     "start_time": "2024-11-20T03:49:54.378540Z"
    }
   },
   "id": "4f567b9ea78a3c06",
   "execution_count": 11
  },
  {
   "cell_type": "code",
   "outputs": [
    {
     "name": "stdout",
     "output_type": "stream",
     "text": [
      "tensor([[1, 2, 3],\n",
      "        [4, 5, 6],\n",
      "        [7, 8, 9]])\n"
     ]
    }
   ],
   "source": [
    "print(d)"
   ],
   "metadata": {
    "collapsed": false,
    "ExecuteTime": {
     "end_time": "2024-11-20T03:49:58.917529Z",
     "start_time": "2024-11-20T03:49:58.909292Z"
    }
   },
   "id": "84210b3494ef0161",
   "execution_count": 12
  },
  {
   "cell_type": "code",
   "outputs": [
    {
     "name": "stdout",
     "output_type": "stream",
     "text": [
      "tensor(5.)\n"
     ]
    }
   ],
   "source": [
    "print(y[-1])"
   ],
   "metadata": {
    "collapsed": false,
    "ExecuteTime": {
     "end_time": "2024-11-20T03:52:10.524452Z",
     "start_time": "2024-11-20T03:52:10.519745Z"
    }
   },
   "id": "7867c56f14eb5d7d",
   "execution_count": 13
  },
  {
   "cell_type": "code",
   "outputs": [
    {
     "name": "stdout",
     "output_type": "stream",
     "text": [
      "tensor([1., 2.])\n"
     ]
    }
   ],
   "source": [
    "print(y[1:3])"
   ],
   "metadata": {
    "collapsed": false,
    "ExecuteTime": {
     "end_time": "2024-11-20T03:52:25.202062Z",
     "start_time": "2024-11-20T03:52:25.190097Z"
    }
   },
   "id": "10f45bd919ffc1cb",
   "execution_count": 14
  },
  {
   "cell_type": "code",
   "outputs": [
    {
     "name": "stdout",
     "output_type": "stream",
     "text": [
      "tensor(5.)\n"
     ]
    }
   ],
   "source": [
    "print(y.reshape(2,3)[1, 2])"
   ],
   "metadata": {
    "collapsed": false,
    "ExecuteTime": {
     "end_time": "2024-11-20T05:51:09.079709Z",
     "start_time": "2024-11-20T05:51:09.073064Z"
    }
   },
   "id": "e66582fd207452c8",
   "execution_count": 20
  },
  {
   "cell_type": "code",
   "outputs": [
    {
     "name": "stdout",
     "output_type": "stream",
     "text": [
      "tensor([  1.0000,   2.7183,   7.3891,  20.0855,  54.5982, 148.4132])\n"
     ]
    }
   ],
   "source": [
    "print(torch.exp(y))"
   ],
   "metadata": {
    "collapsed": false,
    "ExecuteTime": {
     "end_time": "2024-11-20T05:51:36.460122Z",
     "start_time": "2024-11-20T05:51:36.445112Z"
    }
   },
   "id": "1edb4f71019877ed",
   "execution_count": 21
  },
  {
   "cell_type": "code",
   "outputs": [
    {
     "name": "stdout",
     "output_type": "stream",
     "text": [
      "tensor([5, 7, 9])\n",
      "tensor([ 4, 10, 18])\n"
     ]
    }
   ],
   "source": [
    "i = torch.tensor([1,2,3])\n",
    "j = torch.tensor([4,5,6])\n",
    "print(i+j)\n",
    "print(i*j)"
   ],
   "metadata": {
    "collapsed": false,
    "ExecuteTime": {
     "end_time": "2024-11-20T05:52:41.511425Z",
     "start_time": "2024-11-20T05:52:41.499815Z"
    }
   },
   "id": "3a08cb50957a57ed",
   "execution_count": 22
  },
  {
   "cell_type": "code",
   "outputs": [
    {
     "name": "stdout",
     "output_type": "stream",
     "text": [
      "tensor([  1,  32, 729])\n"
     ]
    }
   ],
   "source": [
    "print(i**j)"
   ],
   "metadata": {
    "collapsed": false,
    "ExecuteTime": {
     "end_time": "2024-11-20T05:53:05.824745Z",
     "start_time": "2024-11-20T05:53:05.810340Z"
    }
   },
   "id": "cbd232e9c16845fa",
   "execution_count": 23
  },
  {
   "cell_type": "code",
   "outputs": [
    {
     "name": "stdout",
     "output_type": "stream",
     "text": [
      "tensor([[ 0.,  1.,  2.,  3.],\n",
      "        [ 4.,  5.,  6.,  7.],\n",
      "        [ 8.,  9., 10., 11.],\n",
      "        [ 1.,  2.,  3.,  4.],\n",
      "        [ 5.,  6.,  7.,  8.],\n",
      "        [ 9., 10., 11., 12.]])\n",
      "tensor([[ 0.,  1.,  2.,  3.,  1.,  2.,  3.,  4.],\n",
      "        [ 4.,  5.,  6.,  7.,  5.,  6.,  7.,  8.],\n",
      "        [ 8.,  9., 10., 11.,  9., 10., 11., 12.]])\n"
     ]
    }
   ],
   "source": [
    "i = torch.arange(12, dtype=torch.float32).reshape(3, 4)\n",
    "j = torch.tensor([[1,2,3,4], [5,6,7,8], [9,10,11,12]], dtype=torch.float32)\n",
    "print(torch.cat((i, j), dim=0))\n",
    "print(torch.cat((i, j), dim=1))\n"
   ],
   "metadata": {
    "collapsed": false,
    "ExecuteTime": {
     "end_time": "2024-11-20T06:22:35.311455Z",
     "start_time": "2024-11-20T06:22:35.283868Z"
    }
   },
   "id": "3e2ba55941b84d07",
   "execution_count": 24
  },
  {
   "cell_type": "code",
   "outputs": [
    {
     "name": "stdout",
     "output_type": "stream",
     "text": [
      "tensor([[False, False, False, False],\n",
      "        [False, False, False, False],\n",
      "        [False, False, False, False]])\n"
     ]
    }
   ],
   "source": [
    "print(i == j)"
   ],
   "metadata": {
    "collapsed": false,
    "ExecuteTime": {
     "end_time": "2024-11-20T06:24:17.227346Z",
     "start_time": "2024-11-20T06:24:17.218285Z"
    }
   },
   "id": "89653c427c37b8c9",
   "execution_count": 25
  },
  {
   "cell_type": "code",
   "outputs": [
    {
     "name": "stdout",
     "output_type": "stream",
     "text": [
      "tensor(66.)\n"
     ]
    }
   ],
   "source": [
    "print(i.sum())"
   ],
   "metadata": {
    "collapsed": false,
    "ExecuteTime": {
     "end_time": "2024-11-20T06:24:33.771704Z",
     "start_time": "2024-11-20T06:24:33.756732Z"
    }
   },
   "id": "c013f3a4cbe54784",
   "execution_count": 26
  },
  {
   "cell_type": "code",
   "outputs": [
    {
     "data": {
      "text/plain": "tensor(66.)"
     },
     "execution_count": 27,
     "metadata": {},
     "output_type": "execute_result"
    }
   ],
   "source": [
    "i.sum()"
   ],
   "metadata": {
    "collapsed": false,
    "ExecuteTime": {
     "end_time": "2024-11-20T06:24:42.591168Z",
     "start_time": "2024-11-20T06:24:42.566182Z"
    }
   },
   "id": "6b2f2687301f51fe",
   "execution_count": 27
  },
  {
   "cell_type": "code",
   "outputs": [],
   "source": [
    "a = torch.arange(3, dtype=torch.float32).reshape(3, 1)\n",
    "b = torch.arange(2, dtype=torch.float32).reshape(1, 2)"
   ],
   "metadata": {
    "collapsed": false,
    "ExecuteTime": {
     "end_time": "2024-11-20T06:27:32.271319Z",
     "start_time": "2024-11-20T06:27:32.263259Z"
    }
   },
   "id": "dcdc2be56b8c3ea5",
   "execution_count": 28
  },
  {
   "cell_type": "code",
   "outputs": [
    {
     "data": {
      "text/plain": "(tensor([[0.],\n         [1.],\n         [2.]]),\n tensor([[0., 1.]]))"
     },
     "execution_count": 29,
     "metadata": {},
     "output_type": "execute_result"
    }
   ],
   "source": [
    "a,b"
   ],
   "metadata": {
    "collapsed": false,
    "ExecuteTime": {
     "end_time": "2024-11-20T06:27:38.360098Z",
     "start_time": "2024-11-20T06:27:38.348770Z"
    }
   },
   "id": "9c08595e7e8aeb11",
   "execution_count": 29
  },
  {
   "cell_type": "code",
   "outputs": [
    {
     "data": {
      "text/plain": "tensor([[0., 1.],\n        [1., 2.],\n        [2., 3.]])"
     },
     "execution_count": 30,
     "metadata": {},
     "output_type": "execute_result"
    }
   ],
   "source": [
    "a+b"
   ],
   "metadata": {
    "collapsed": false,
    "ExecuteTime": {
     "end_time": "2024-11-20T06:27:46.307765Z",
     "start_time": "2024-11-20T06:27:46.298194Z"
    }
   },
   "id": "a54a8b65ea96d9e2",
   "execution_count": 30
  },
  {
   "cell_type": "code",
   "outputs": [
    {
     "data": {
      "text/plain": "(4581887920, 4581886960)"
     },
     "execution_count": 32,
     "metadata": {},
     "output_type": "execute_result"
    }
   ],
   "source": [
    "add1 = id(a)\n",
    "a = a + b\n",
    "add2 = id(a)\n",
    "add1, add2"
   ],
   "metadata": {
    "collapsed": false,
    "ExecuteTime": {
     "end_time": "2024-11-20T06:35:34.447495Z",
     "start_time": "2024-11-20T06:35:34.438558Z"
    }
   },
   "id": "42343756453eb6b5",
   "execution_count": 32
  },
  {
   "cell_type": "code",
   "outputs": [
    {
     "data": {
      "text/plain": "(numpy.ndarray, torch.Tensor)"
     },
     "execution_count": 33,
     "metadata": {},
     "output_type": "execute_result"
    }
   ],
   "source": [
    "X = a.numpy()\n",
    "Y = torch.from_numpy(X)\n",
    "type(X), type(Y)\n",
    "\n"
   ],
   "metadata": {
    "collapsed": false,
    "ExecuteTime": {
     "end_time": "2024-11-20T06:39:47.845305Z",
     "start_time": "2024-11-20T06:39:47.817023Z"
    }
   },
   "id": "89e085ec192f6fa0",
   "execution_count": 33
  },
  {
   "cell_type": "code",
   "outputs": [
    {
     "data": {
      "text/plain": "(tensor([3.5000]), 3.5, 3.5, 3)"
     },
     "execution_count": 34,
     "metadata": {},
     "output_type": "execute_result"
    }
   ],
   "source": [
    "a = torch.tensor([3.5])\n",
    "a, a.item(), float(a), int(a)"
   ],
   "metadata": {
    "collapsed": false,
    "ExecuteTime": {
     "end_time": "2024-11-20T07:36:41.594596Z",
     "start_time": "2024-11-20T07:36:41.442556Z"
    }
   },
   "id": "129703271319e019",
   "execution_count": 34
  },
  {
   "cell_type": "code",
   "outputs": [
    {
     "ename": "TypeError",
     "evalue": "'>' not supported between instances of 'numpy.ndarray' and 'Tensor'",
     "output_type": "error",
     "traceback": [
      "\u001B[0;31m---------------------------------------------------------------------------\u001B[0m",
      "\u001B[0;31mTypeError\u001B[0m                                 Traceback (most recent call last)",
      "Cell \u001B[0;32mIn[35], line 1\u001B[0m\n\u001B[0;32m----> 1\u001B[0m X \u001B[38;5;241m==\u001B[39m Y, \u001B[43mX\u001B[49m\u001B[43m \u001B[49m\u001B[38;5;241;43m>\u001B[39;49m\u001B[43m \u001B[49m\u001B[43mY\u001B[49m, X \u001B[38;5;241m<\u001B[39m Y\n",
      "\u001B[0;31mTypeError\u001B[0m: '>' not supported between instances of 'numpy.ndarray' and 'Tensor'"
     ]
    }
   ],
   "source": [],
   "metadata": {
    "collapsed": false,
    "ExecuteTime": {
     "end_time": "2024-11-20T07:38:10.992943Z",
     "start_time": "2024-11-20T07:38:10.737936Z"
    }
   },
   "id": "2ce8b22a4f13d1c5",
   "execution_count": 35
  },
  {
   "cell_type": "code",
   "outputs": [
    {
     "data": {
      "text/plain": "(tensor([[False, False]]), tensor([[True, True]]), tensor([[False, False]]))"
     },
     "execution_count": 36,
     "metadata": {},
     "output_type": "execute_result"
    }
   ],
   "source": [
    "a == b, a > b, a < b"
   ],
   "metadata": {
    "collapsed": false,
    "ExecuteTime": {
     "end_time": "2024-11-20T07:38:50.288152Z",
     "start_time": "2024-11-20T07:38:50.265620Z"
    }
   },
   "id": "9a641b8b0fab8c40",
   "execution_count": 36
  },
  {
   "cell_type": "code",
   "outputs": [],
   "source": [
    "a = torch.arange()"
   ],
   "metadata": {
    "collapsed": false
   },
   "id": "445ee0d40741eba1"
  }
 ],
 "metadata": {
  "kernelspec": {
   "display_name": "Python 3",
   "language": "python",
   "name": "python3"
  },
  "language_info": {
   "codemirror_mode": {
    "name": "ipython",
    "version": 2
   },
   "file_extension": ".py",
   "mimetype": "text/x-python",
   "name": "python",
   "nbconvert_exporter": "python",
   "pygments_lexer": "ipython2",
   "version": "2.7.6"
  }
 },
 "nbformat": 4,
 "nbformat_minor": 5
}
