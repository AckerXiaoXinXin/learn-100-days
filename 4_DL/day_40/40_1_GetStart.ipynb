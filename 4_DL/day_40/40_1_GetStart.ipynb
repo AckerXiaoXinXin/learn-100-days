{
 "cells": [
  {
   "cell_type": "code",
   "execution_count": 1,
   "id": "initial_id",
   "metadata": {
    "collapsed": true,
    "ExecuteTime": {
     "end_time": "2024-11-20T03:33:35.042703Z",
     "start_time": "2024-11-20T03:33:31.616648Z"
    }
   },
   "outputs": [],
   "source": [
    "import torch\n",
    "\n",
    "y = torch.arange(6, dtype=torch.float32)"
   ]
  },
  {
   "cell_type": "code",
   "outputs": [
    {
     "ename": "TypeError",
     "evalue": "'torch.Size' object is not callable",
     "output_type": "error",
     "traceback": [
      "\u001B[0;31m---------------------------------------------------------------------------\u001B[0m",
      "\u001B[0;31mTypeError\u001B[0m                                 Traceback (most recent call last)",
      "Cell \u001B[0;32mIn[2], line 1\u001B[0m\n\u001B[0;32m----> 1\u001B[0m \u001B[43my\u001B[49m\u001B[38;5;241;43m.\u001B[39;49m\u001B[43mshape\u001B[49m\u001B[43m(\u001B[49m\u001B[43m)\u001B[49m\n",
      "\u001B[0;31mTypeError\u001B[0m: 'torch.Size' object is not callable"
     ]
    }
   ],
   "source": [
    "y.shape()"
   ],
   "metadata": {
    "collapsed": false,
    "ExecuteTime": {
     "end_time": "2024-11-20T03:42:42.297077Z",
     "start_time": "2024-11-20T03:42:42.115048Z"
    }
   },
   "id": "83dbe153fa2b91df",
   "execution_count": 2
  },
  {
   "cell_type": "code",
   "outputs": [
    {
     "data": {
      "text/plain": "torch.Size([6])"
     },
     "execution_count": 3,
     "metadata": {},
     "output_type": "execute_result"
    }
   ],
   "source": [
    "y.shape"
   ],
   "metadata": {
    "collapsed": false,
    "ExecuteTime": {
     "end_time": "2024-11-20T03:42:55.351158Z",
     "start_time": "2024-11-20T03:42:55.338603Z"
    }
   },
   "id": "d22218114282f41c",
   "execution_count": 3
  },
  {
   "cell_type": "code",
   "outputs": [
    {
     "data": {
      "text/plain": "tensor([[0., 1., 2.],\n        [3., 4., 5.]])"
     },
     "execution_count": 4,
     "metadata": {},
     "output_type": "execute_result"
    }
   ],
   "source": [
    "y.reshape(2,3)"
   ],
   "metadata": {
    "collapsed": false,
    "ExecuteTime": {
     "end_time": "2024-11-20T03:43:27.515672Z",
     "start_time": "2024-11-20T03:43:27.498196Z"
    }
   },
   "id": "fc0ffc0f8109092c",
   "execution_count": 4
  },
  {
   "cell_type": "code",
   "outputs": [
    {
     "data": {
      "text/plain": "torch.Size([6])"
     },
     "execution_count": 5,
     "metadata": {},
     "output_type": "execute_result"
    }
   ],
   "source": [
    "y.shape"
   ],
   "metadata": {
    "collapsed": false,
    "ExecuteTime": {
     "end_time": "2024-11-20T03:43:35.290269Z",
     "start_time": "2024-11-20T03:43:35.283957Z"
    }
   },
   "id": "d4d248d2b7670618",
   "execution_count": 5
  },
  {
   "cell_type": "code",
   "outputs": [],
   "source": [
    "z = torch.zeros(2,3,4)"
   ],
   "metadata": {
    "collapsed": false,
    "ExecuteTime": {
     "end_time": "2024-11-20T03:44:07.112167Z",
     "start_time": "2024-11-20T03:44:07.103234Z"
    }
   },
   "id": "daed2d4f07319be3",
   "execution_count": 6
  },
  {
   "cell_type": "code",
   "outputs": [
    {
     "name": "stdout",
     "output_type": "stream",
     "text": [
      "tensor([[[0., 0., 0., 0.],\n",
      "         [0., 0., 0., 0.],\n",
      "         [0., 0., 0., 0.]],\n",
      "\n",
      "        [[0., 0., 0., 0.],\n",
      "         [0., 0., 0., 0.],\n",
      "         [0., 0., 0., 0.]]])\n"
     ]
    }
   ],
   "source": [
    "print(z)"
   ],
   "metadata": {
    "collapsed": false,
    "ExecuteTime": {
     "end_time": "2024-11-20T03:44:13.112756Z",
     "start_time": "2024-11-20T03:44:13.106429Z"
    }
   },
   "id": "22b301c2ee4fc137",
   "execution_count": 7
  },
  {
   "cell_type": "code",
   "outputs": [
    {
     "name": "stdout",
     "output_type": "stream",
     "text": [
      "tensor([[[1., 1., 1., 1.],\n",
      "         [1., 1., 1., 1.],\n",
      "         [1., 1., 1., 1.]],\n",
      "\n",
      "        [[1., 1., 1., 1.],\n",
      "         [1., 1., 1., 1.],\n",
      "         [1., 1., 1., 1.]]])\n"
     ]
    }
   ],
   "source": [
    "a = torch.ones(2,3,4)\n",
    "print(a)"
   ],
   "metadata": {
    "collapsed": false,
    "ExecuteTime": {
     "end_time": "2024-11-20T03:44:44.224198Z",
     "start_time": "2024-11-20T03:44:44.213825Z"
    }
   },
   "id": "d53662dc55d4fcc3",
   "execution_count": 8
  },
  {
   "cell_type": "code",
   "outputs": [
    {
     "name": "stdout",
     "output_type": "stream",
     "text": [
      "tensor([[[0.6366, 0.9816, 0.5433, 0.3340],\n",
      "         [0.4553, 0.7400, 0.6358, 0.4532],\n",
      "         [0.6686, 0.2727, 0.8564, 0.6314]],\n",
      "\n",
      "        [[0.9110, 0.4371, 0.5701, 0.3261],\n",
      "         [0.8301, 0.9774, 0.5710, 0.1858],\n",
      "         [0.9464, 0.8802, 0.5490, 0.2080]]])\n"
     ]
    }
   ],
   "source": [
    "b = torch.rand(2,3,4)\n",
    "print(b)"
   ],
   "metadata": {
    "collapsed": false,
    "ExecuteTime": {
     "end_time": "2024-11-20T03:45:09.085721Z",
     "start_time": "2024-11-20T03:45:09.068924Z"
    }
   },
   "id": "8f1aa3c7b02da435",
   "execution_count": 9
  },
  {
   "cell_type": "code",
   "outputs": [
    {
     "name": "stdout",
     "output_type": "stream",
     "text": [
      "tensor([[[ 0.5468, -0.7259, -0.5765, -0.7000],\n",
      "         [-0.4505, -0.9540,  0.1139, -0.9341],\n",
      "         [-0.7564,  1.0761, -1.7290,  0.1994]],\n",
      "\n",
      "        [[ 0.5492,  0.9775, -0.0761,  0.8224],\n",
      "         [ 1.1992,  1.7150, -1.0172, -0.2810],\n",
      "         [ 1.0708,  0.5619,  2.0117, -0.1117]]])\n"
     ]
    }
   ],
   "source": [
    "c = torch.randn(2,3,4)\n",
    "print(c)"
   ],
   "metadata": {
    "collapsed": false,
    "ExecuteTime": {
     "end_time": "2024-11-20T03:45:32.917151Z",
     "start_time": "2024-11-20T03:45:32.905649Z"
    }
   },
   "id": "edb6e9f913f2b166",
   "execution_count": 10
  },
  {
   "cell_type": "code",
   "outputs": [],
   "source": [],
   "metadata": {
    "collapsed": false
   },
   "id": "4f567b9ea78a3c06"
  }
 ],
 "metadata": {
  "kernelspec": {
   "display_name": "Python 3",
   "language": "python",
   "name": "python3"
  },
  "language_info": {
   "codemirror_mode": {
    "name": "ipython",
    "version": 2
   },
   "file_extension": ".py",
   "mimetype": "text/x-python",
   "name": "python",
   "nbconvert_exporter": "python",
   "pygments_lexer": "ipython2",
   "version": "2.7.6"
  }
 },
 "nbformat": 4,
 "nbformat_minor": 5
}
