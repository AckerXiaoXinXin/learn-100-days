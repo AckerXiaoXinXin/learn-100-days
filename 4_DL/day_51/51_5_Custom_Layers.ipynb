{
 "cells": [
  {
   "cell_type": "code",
   "id": "initial_id",
   "metadata": {
    "collapsed": true,
    "ExecuteTime": {
     "end_time": "2024-12-03T07:55:39.095196Z",
     "start_time": "2024-12-03T07:55:33.796542Z"
    }
   },
   "source": [
    "import torch\n",
    "from torch import nn\n",
    "from torch.nn import functional as F\n",
    "from d2l import torch as d2l"
   ],
   "outputs": [],
   "execution_count": 1
  },
  {
   "metadata": {
    "ExecuteTime": {
     "end_time": "2024-12-03T07:57:28.693983Z",
     "start_time": "2024-12-03T07:57:28.688490Z"
    }
   },
   "cell_type": "code",
   "source": [
    "class CenteredLayer(nn.Module):\n",
    "    def __init__(self):\n",
    "        super().__init__()\n",
    "\n",
    "    def forward(self,X):\n",
    "        return X - X.mean()\n"
   ],
   "id": "e0d455c46600a9f4",
   "outputs": [],
   "execution_count": 2
  },
  {
   "metadata": {
    "ExecuteTime": {
     "end_time": "2024-12-03T07:58:15.281244Z",
     "start_time": "2024-12-03T07:58:15.256614Z"
    }
   },
   "cell_type": "code",
   "source": [
    "layer = CenteredLayer()\n",
    "layer(torch.tensor([1.0, 2, 3, 4, 5]))"
   ],
   "id": "9735ab01feb7809f",
   "outputs": [
    {
     "data": {
      "text/plain": [
       "tensor([-2., -1.,  0.,  1.,  2.])"
      ]
     },
     "execution_count": 3,
     "metadata": {},
     "output_type": "execute_result"
    }
   ],
   "execution_count": 3
  },
  {
   "metadata": {
    "ExecuteTime": {
     "end_time": "2024-12-03T08:00:32.493276Z",
     "start_time": "2024-12-03T08:00:32.483503Z"
    }
   },
   "cell_type": "code",
   "source": [
    "net = nn.Sequential(\n",
    "    nn.LazyLinear(128),\n",
    "    CenteredLayer()\n",
    ")\n",
    "Y = net(torch.rand(4,8))\n",
    "Y.mean()"
   ],
   "id": "3a878283a4ac848b",
   "outputs": [
    {
     "data": {
      "text/plain": [
       "tensor(2.7940e-09, grad_fn=<MeanBackward0>)"
      ]
     },
     "execution_count": 6,
     "metadata": {},
     "output_type": "execute_result"
    }
   ],
   "execution_count": 6
  },
  {
   "metadata": {
    "ExecuteTime": {
     "end_time": "2024-12-03T09:09:05.012666Z",
     "start_time": "2024-12-03T09:09:04.918326Z"
    }
   },
   "cell_type": "code",
   "source": [
    "class MyLinear(nn.Module):\n",
    "    def __init__(self, in_units, units):\n",
    "        super().__init__()\n",
    "        self.weight = nn.Parameter(torch.randn(in_units, units))\n",
    "        self.bias = nn.Parameter(torch.randn(units, ))\n",
    "\n",
    "    def forward(self, X):\n",
    "        linear = torch.matmul(X, self.weight.data) + self.bias.data\n",
    "        return F.relu(linear)"
   ],
   "id": "3f1fb846ed310ed3",
   "outputs": [],
   "execution_count": 7
  },
  {
   "metadata": {
    "ExecuteTime": {
     "end_time": "2024-12-03T09:09:31.450006Z",
     "start_time": "2024-12-03T09:09:31.419405Z"
    }
   },
   "cell_type": "code",
   "source": [
    "linear = MyLinear(5,3)\n",
    "linear.weight"
   ],
   "id": "43cc5e7bbf3efa27",
   "outputs": [
    {
     "data": {
      "text/plain": [
       "Parameter containing:\n",
       "tensor([[-0.7296,  0.5830, -0.4936],\n",
       "        [ 0.8843,  0.6854,  0.3486],\n",
       "        [ 0.2590,  1.6699,  0.1512],\n",
       "        [-0.6214,  0.4360, -0.2084],\n",
       "        [-0.3718,  1.0079, -0.6979]], requires_grad=True)"
      ]
     },
     "execution_count": 8,
     "metadata": {},
     "output_type": "execute_result"
    }
   ],
   "execution_count": 8
  },
  {
   "metadata": {},
   "cell_type": "code",
   "outputs": [],
   "execution_count": null,
   "source": [
    "nn.Sequential(\n",
    "    nn.LazyLinear(18),nn.ReLU(),\n",
    "    nn.LazyLinear(10),nn.ReLU(),\n",
    "    nn.LazyLinear(1)\n",
    ")"
   ],
   "id": "82f87c8534280952"
  }
 ],
 "metadata": {
  "kernelspec": {
   "display_name": "Python 3",
   "language": "python",
   "name": "python3"
  },
  "language_info": {
   "codemirror_mode": {
    "name": "ipython",
    "version": 2
   },
   "file_extension": ".py",
   "mimetype": "text/x-python",
   "name": "python",
   "nbconvert_exporter": "python",
   "pygments_lexer": "ipython2",
   "version": "2.7.6"
  }
 },
 "nbformat": 4,
 "nbformat_minor": 5
}
