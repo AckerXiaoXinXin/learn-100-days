{
 "cells": [
  {
   "cell_type": "code",
   "id": "initial_id",
   "metadata": {
    "collapsed": true,
    "ExecuteTime": {
     "end_time": "2024-12-04T03:29:16.586497Z",
     "start_time": "2024-12-04T03:29:10.294122Z"
    }
   },
   "source": [
    "import torch\n",
    "from torch import nn\n",
    "from d2l import torch as d2l"
   ],
   "outputs": [],
   "execution_count": 1
  },
  {
   "metadata": {
    "ExecuteTime": {
     "end_time": "2024-12-04T03:31:18.672847Z",
     "start_time": "2024-12-04T03:31:18.662939Z"
    }
   },
   "cell_type": "code",
   "source": [
    "def cpu():\n",
    "    return torch.device('cpu')\n",
    "\n",
    "def gpu(i=0):\n",
    "    return torch.device(f'cuda:{i}')\n",
    "cpu(),gpu(),gpu(1)"
   ],
   "id": "2f54a17fb5ed1702",
   "outputs": [
    {
     "data": {
      "text/plain": [
       "(device(type='cpu'),\n",
       " device(type='cuda', index=0),\n",
       " device(type='cuda', index=1))"
      ]
     },
     "execution_count": 2,
     "metadata": {},
     "output_type": "execute_result"
    }
   ],
   "execution_count": 2
  },
  {
   "metadata": {
    "ExecuteTime": {
     "end_time": "2024-12-04T03:32:21.480358Z",
     "start_time": "2024-12-04T03:32:21.472128Z"
    }
   },
   "cell_type": "code",
   "source": [
    "def num_gpus():\n",
    "    return torch.cuda.device_count()\n",
    "num_gpus()"
   ],
   "id": "42a2619013c1214e",
   "outputs": [
    {
     "data": {
      "text/plain": [
       "0"
      ]
     },
     "execution_count": 5,
     "metadata": {},
     "output_type": "execute_result"
    }
   ],
   "execution_count": 5
  },
  {
   "metadata": {},
   "cell_type": "code",
   "outputs": [],
   "execution_count": null,
   "source": "",
   "id": "f8b166fa809d9097"
  }
 ],
 "metadata": {
  "kernelspec": {
   "display_name": "Python 3",
   "language": "python",
   "name": "python3"
  },
  "language_info": {
   "codemirror_mode": {
    "name": "ipython",
    "version": 2
   },
   "file_extension": ".py",
   "mimetype": "text/x-python",
   "name": "python",
   "nbconvert_exporter": "python",
   "pygments_lexer": "ipython2",
   "version": "2.7.6"
  }
 },
 "nbformat": 4,
 "nbformat_minor": 5
}
